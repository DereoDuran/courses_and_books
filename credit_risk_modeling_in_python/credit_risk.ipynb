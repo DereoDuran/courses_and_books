{
 "cells": [
  {
   "cell_type": "markdown",
   "metadata": {},
   "source": [
    "EL = Expected Loss = O quanto o credor perderia em caso de inadimplência\n",
    "\n",
    "PD = Probability of Default = Chance da inadimplência ocorrer\n",
    "\n",
    "LGD = Loss Given Default = Proporção da perda que não pode ser recuperado na inadimplência\n",
    "\n",
    "EAD = Exposure at Default = Valor total de exposição em caso de inadimplência\n",
    "\n",
    "EL = PD * LGD * EAD"
   ]
  }
 ],
 "metadata": {
  "kernelspec": {
   "display_name": "Python 3",
   "language": "python",
   "name": "python3"
  },
  "language_info": {
   "codemirror_mode": {
    "name": "ipython",
    "version": 3
   },
   "file_extension": ".py",
   "mimetype": "text/x-python",
   "name": "python",
   "nbconvert_exporter": "python",
   "pygments_lexer": "ipython3",
   "version": "3.11.9"
  }
 },
 "nbformat": 4,
 "nbformat_minor": 2
}
