{
 "cells": [
  {
   "cell_type": "code",
   "execution_count": 3,
   "metadata": {},
   "outputs": [
    {
     "name": "stdout",
     "output_type": "stream",
     "text": [
      "Collecting category-encoders\n",
      "  Downloading category_encoders-2.8.0-py3-none-any.whl.metadata (7.9 kB)\n",
      "Requirement already satisfied: numpy>=1.14.0 in c:\\users\\josec\\appdata\\local\\programs\\python\\python311\\lib\\site-packages (from category-encoders) (1.26.4)\n",
      "Requirement already satisfied: pandas>=1.0.5 in c:\\users\\josec\\appdata\\local\\programs\\python\\python311\\lib\\site-packages (from category-encoders) (2.2.2)\n",
      "Requirement already satisfied: patsy>=0.5.1 in c:\\users\\josec\\appdata\\local\\programs\\python\\python311\\lib\\site-packages (from category-encoders) (1.0.1)\n",
      "Collecting scikit-learn>=1.6.0 (from category-encoders)\n",
      "  Downloading scikit_learn-1.6.1-cp311-cp311-win_amd64.whl.metadata (15 kB)\n",
      "Requirement already satisfied: scipy>=1.0.0 in c:\\users\\josec\\appdata\\local\\programs\\python\\python311\\lib\\site-packages (from category-encoders) (1.14.1)\n",
      "Requirement already satisfied: statsmodels>=0.9.0 in c:\\users\\josec\\appdata\\local\\programs\\python\\python311\\lib\\site-packages (from category-encoders) (0.14.4)\n",
      "Requirement already satisfied: python-dateutil>=2.8.2 in c:\\users\\josec\\appdata\\roaming\\python\\python311\\site-packages (from pandas>=1.0.5->category-encoders) (2.9.0.post0)\n",
      "Requirement already satisfied: pytz>=2020.1 in c:\\users\\josec\\appdata\\local\\programs\\python\\python311\\lib\\site-packages (from pandas>=1.0.5->category-encoders) (2024.1)\n",
      "Requirement already satisfied: tzdata>=2022.7 in c:\\users\\josec\\appdata\\local\\programs\\python\\python311\\lib\\site-packages (from pandas>=1.0.5->category-encoders) (2024.1)\n",
      "Requirement already satisfied: joblib>=1.2.0 in c:\\users\\josec\\appdata\\local\\programs\\python\\python311\\lib\\site-packages (from scikit-learn>=1.6.0->category-encoders) (1.4.2)\n",
      "Requirement already satisfied: threadpoolctl>=3.1.0 in c:\\users\\josec\\appdata\\local\\programs\\python\\python311\\lib\\site-packages (from scikit-learn>=1.6.0->category-encoders) (3.5.0)\n",
      "Requirement already satisfied: packaging>=21.3 in c:\\users\\josec\\appdata\\roaming\\python\\python311\\site-packages (from statsmodels>=0.9.0->category-encoders) (24.0)\n",
      "Requirement already satisfied: six>=1.5 in c:\\users\\josec\\appdata\\roaming\\python\\python311\\site-packages (from python-dateutil>=2.8.2->pandas>=1.0.5->category-encoders) (1.16.0)\n",
      "Downloading category_encoders-2.8.0-py3-none-any.whl (85 kB)\n",
      "   ---------------------------------------- 0.0/85.7 kB ? eta -:--:--\n",
      "   -------------- ------------------------- 30.7/85.7 kB 660.6 kB/s eta 0:00:01\n",
      "   ---------------------------------------- 85.7/85.7 kB 967.4 kB/s eta 0:00:00\n",
      "Downloading scikit_learn-1.6.1-cp311-cp311-win_amd64.whl (11.1 MB)\n",
      "   ---------------------------------------- 0.0/11.1 MB ? eta -:--:--\n",
      "   - -------------------------------------- 0.4/11.1 MB 11.6 MB/s eta 0:00:01\n",
      "   ---------- ----------------------------- 2.9/11.1 MB 37.2 MB/s eta 0:00:01\n",
      "   ------------------- -------------------- 5.5/11.1 MB 43.7 MB/s eta 0:00:01\n",
      "   ----------------------------- ---------- 8.2/11.1 MB 47.6 MB/s eta 0:00:01\n",
      "   ---------------------------------------  11.1/11.1 MB 59.8 MB/s eta 0:00:01\n",
      "   ---------------------------------------- 11.1/11.1 MB 54.7 MB/s eta 0:00:00\n",
      "Installing collected packages: scikit-learn, category-encoders\n",
      "  Attempting uninstall: scikit-learn\n",
      "    Found existing installation: scikit-learn 1.5.2\n",
      "    Uninstalling scikit-learn-1.5.2:\n",
      "      Successfully uninstalled scikit-learn-1.5.2\n",
      "Successfully installed category-encoders-2.8.0 scikit-learn-1.6.1\n"
     ]
    },
    {
     "name": "stderr",
     "output_type": "stream",
     "text": [
      "\n",
      "[notice] A new release of pip is available: 24.0 -> 24.3.1\n",
      "[notice] To update, run: python.exe -m pip install --upgrade pip\n"
     ]
    }
   ],
   "source": [
    "!python -m pip install category-encoders"
   ]
  }
 ],
 "metadata": {
  "kernelspec": {
   "display_name": "Python 3",
   "language": "python",
   "name": "python3"
  },
  "language_info": {
   "codemirror_mode": {
    "name": "ipython",
    "version": 3
   },
   "file_extension": ".py",
   "mimetype": "text/x-python",
   "name": "python",
   "nbconvert_exporter": "python",
   "pygments_lexer": "ipython3",
   "version": "3.11.9"
  }
 },
 "nbformat": 4,
 "nbformat_minor": 2
}
